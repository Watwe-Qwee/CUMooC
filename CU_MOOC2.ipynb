{
  "nbformat": 4,
  "nbformat_minor": 0,
  "metadata": {
    "colab": {
      "name": "CU_MOOC2.ipynb",
      "provenance": []
    },
    "kernelspec": {
      "name": "python3",
      "display_name": "Python 3"
    }
  },
  "cells": [
    {
      "cell_type": "code",
      "metadata": {
        "colab": {
          "base_uri": "https://localhost:8080/"
        },
        "id": "Z8cHaymOX4__",
        "outputId": "b1335310-3b07-484c-fe9f-40c5415f7136"
      },
      "source": [
        "import pandas as pd\n",
        "import numpy as np\n",
        "import matplotlib.pyplot as plt \n",
        "from google.colab import drive\n",
        "drive.mount('/content/drive')\n",
        "import matplotlib.pyplot as plt\n",
        "%matplotlib inline\n",
        "import seaborn as sns"
      ],
      "execution_count": 1,
      "outputs": [
        {
          "output_type": "stream",
          "text": [
            "Mounted at /content/drive\n"
          ],
          "name": "stdout"
        }
      ]
    },
    {
      "cell_type": "code",
      "metadata": {
        "id": "faV4NAWYT_Xg"
      },
      "source": [
        "specific_direction=\"/content/drive/My Drive/20191112_CUMOOC_Data/Raw Data/\"\n",
        "cvocp_user_course_timing_masked = pd.read_csv(specific_direction+'01_cvocp_user_course_timing_masked.csv')"
      ],
      "execution_count": 2,
      "outputs": []
    },
    {
      "cell_type": "markdown",
      "metadata": {
        "id": "TG1S2w_XXmpQ"
      },
      "source": [
        "# ลองพิจารณา Feature ที่มาจาก timestamp ของแต่ละคน\n"
      ]
    },
    {
      "cell_type": "code",
      "metadata": {
        "colab": {
          "base_uri": "https://localhost:8080/"
        },
        "id": "LthXRhR_X1ds",
        "outputId": "21f67d67-423c-45a0-d099-2f510ee493e6"
      },
      "source": [
        "cvocp_user_course_timing_masked.info()"
      ],
      "execution_count": 3,
      "outputs": [
        {
          "output_type": "stream",
          "text": [
            "<class 'pandas.core.frame.DataFrame'>\n",
            "RangeIndex: 1049508 entries, 0 to 1049507\n",
            "Data columns (total 7 columns):\n",
            " #   Column       Non-Null Count    Dtype \n",
            "---  ------       --------------    ----- \n",
            " 0   record_id    1049508 non-null  int64 \n",
            " 1   cv_uid       1049508 non-null  object\n",
            " 2   cv_cid       1049508 non-null  object\n",
            " 3   action_type  1049508 non-null  object\n",
            " 4   assoc_id     1049508 non-null  object\n",
            " 5   assoc_id2    1049508 non-null  object\n",
            " 6   timestamp    1049508 non-null  int64 \n",
            "dtypes: int64(2), object(5)\n",
            "memory usage: 56.0+ MB\n"
          ],
          "name": "stdout"
        }
      ]
    },
    {
      "cell_type": "code",
      "metadata": {
        "colab": {
          "base_uri": "https://localhost:8080/"
        },
        "id": "pkS4GXLSYLJd",
        "outputId": "ca3c48f2-96ef-409d-812b-f25c58a41824"
      },
      "source": [
        "print(min(cvocp_user_course_timing_masked['timestamp']), \" = 01/07/2018, \" , max(cvocp_user_course_timing_masked['timestamp']) ,\" = 02/28/2019\")"
      ],
      "execution_count": 4,
      "outputs": [
        {
          "output_type": "stream",
          "text": [
            "1530413688  = 01/07/2018,  1551348939  = 02/28/2019\n"
          ],
          "name": "stdout"
        }
      ]
    },
    {
      "cell_type": "code",
      "metadata": {
        "colab": {
          "base_uri": "https://localhost:8080/"
        },
        "id": "7Pqo87RFeBt3",
        "outputId": "6f329c23-8e39-4cc6-ab18-7b2a9a5376aa"
      },
      "source": [
        "cvocp_user_course_timing_masked['action_type'].unique()"
      ],
      "execution_count": 5,
      "outputs": [
        {
          "output_type": "execute_result",
          "data": {
            "text/plain": [
              "array(['quiz_submitted', 'quiz_opened', 'completed_intime', 'enrolled',\n",
              "       'completed_late', 'quiz_timer_started', 'quiz_timer_out'],\n",
              "      dtype=object)"
            ]
          },
          "metadata": {
            "tags": []
          },
          "execution_count": 5
        }
      ]
    },
    {
      "cell_type": "code",
      "metadata": {
        "id": "q9CA4Jdcdyl1"
      },
      "source": [
        "one_day = 24 * 60 * 60\n",
        "cvocp_user_course_timing_masked['timestamp2'] = (cvocp_user_course_timing_masked['timestamp'] - 1530413688) / one_day"
      ],
      "execution_count": 6,
      "outputs": []
    },
    {
      "cell_type": "code",
      "metadata": {
        "id": "-BrdrnCtaxi5"
      },
      "source": [
        "#sns.displot(cvocp_user_course_timing_masked, x=\"timestamp\" , hue = \"action_type\", binwidth=1, multiple = \"stack\" )"
      ],
      "execution_count": 7,
      "outputs": []
    },
    {
      "cell_type": "code",
      "metadata": {
        "id": "lpc__XKYdO7o"
      },
      "source": [
        "#sns.displot(cvocp_user_course_timing_masked[(cvocp_user_course_timing_masked['action_type'] == \"completed_late\") | (cvocp_user_course_timing_masked['action_type'] == \"completed_intime\")], x=\"timestamp\", binwidth=1)"
      ],
      "execution_count": 8,
      "outputs": []
    },
    {
      "cell_type": "code",
      "metadata": {
        "colab": {
          "base_uri": "https://localhost:8080/"
        },
        "id": "SB3u74Gaayap",
        "outputId": "6ce5bd9f-f0c7-4efb-b0e2-9ea03d759c7e"
      },
      "source": [
        "cvocp_user_course_timing_masked['action_type'].value_counts()"
      ],
      "execution_count": 9,
      "outputs": [
        {
          "output_type": "execute_result",
          "data": {
            "text/plain": [
              "quiz_submitted        491581\n",
              "quiz_opened           423719\n",
              "enrolled              109537\n",
              "completed_intime       22858\n",
              "completed_late          1769\n",
              "quiz_timer_started        37\n",
              "quiz_timer_out             7\n",
              "Name: action_type, dtype: int64"
            ]
          },
          "metadata": {
            "tags": []
          },
          "execution_count": 9
        }
      ]
    },
    {
      "cell_type": "code",
      "metadata": {
        "colab": {
          "base_uri": "https://localhost:8080/"
        },
        "id": "TaGsYeYBgMnC",
        "outputId": "66a2493a-edf3-4c71-b618-e80a0919079f"
      },
      "source": [
        "cvocp_user_course_timing_masked['action_count'] = 0\n",
        "counter = dict()\n",
        "for i in range(len(cvocp_user_course_timing_masked)):\n",
        "  uid = cvocp_user_course_timing_masked['cv_uid'][i]\n",
        "  cid = cvocp_user_course_timing_masked['cv_cid'][i]\n",
        "  if((uid,cid) not in counter):\n",
        "    counter[(uid,cid)] = 0\n",
        "  counter[(uid,cid)]+=1\n",
        "  cvocp_user_course_timing_masked['action_count'][i] = counter[(uid,cid)]\n",
        "  if(i % 50000 == 0):\n",
        "    print(i)"
      ],
      "execution_count": 11,
      "outputs": [
        {
          "output_type": "stream",
          "text": [
            "0\n"
          ],
          "name": "stdout"
        },
        {
          "output_type": "stream",
          "text": [
            "/usr/local/lib/python3.6/dist-packages/ipykernel_launcher.py:9: SettingWithCopyWarning: \n",
            "A value is trying to be set on a copy of a slice from a DataFrame\n",
            "\n",
            "See the caveats in the documentation: https://pandas.pydata.org/pandas-docs/stable/user_guide/indexing.html#returning-a-view-versus-a-copy\n",
            "  if __name__ == '__main__':\n"
          ],
          "name": "stderr"
        },
        {
          "output_type": "stream",
          "text": [
            "50000\n",
            "100000\n",
            "150000\n",
            "200000\n",
            "250000\n",
            "300000\n",
            "350000\n",
            "400000\n",
            "450000\n",
            "500000\n",
            "550000\n",
            "600000\n",
            "650000\n",
            "700000\n",
            "750000\n",
            "800000\n",
            "850000\n",
            "900000\n",
            "950000\n",
            "1000000\n"
          ],
          "name": "stdout"
        }
      ]
    },
    {
      "cell_type": "code",
      "metadata": {
        "colab": {
          "base_uri": "https://localhost:8080/"
        },
        "id": "8N10hJfZi02F",
        "outputId": "c082f207-d64e-42d6-a6b4-823ce01a07c4"
      },
      "source": [
        "cvocp_user_course_timing_masked['complete_in_time_count'] = 0\n",
        "cvocp_user_course_timing_masked['complete_late_count'] = 0\n",
        "\n",
        "counter1 = dict()\n",
        "counter2 = dict()\n",
        "\n",
        "for i in range(len(cvocp_user_course_timing_masked)):\n",
        "  uid = cvocp_user_course_timing_masked['cv_uid'][i]\n",
        "  cid = cvocp_user_course_timing_masked['cv_cid'][i]\n",
        "  if((uid,cid) not in counter1):\n",
        "      counter1[(uid,cid)] = 0\n",
        "  if((uid,cid) not in counter2):\n",
        "      counter2[(uid,cid)] = 0\n",
        "  if(cvocp_user_course_timing_masked['action_type'][i] == \"completed_intime\"):\n",
        "    counter1[(uid,cid)] += 1\n",
        "  elif (cvocp_user_course_timing_masked['action_type'][i] == \"completed_late\"):\n",
        "    counter2[(uid,cid)] += 1\n",
        "  cvocp_user_course_timing_masked['complete_in_time_count'][i] = counter1[(uid,cid)]\n",
        "  cvocp_user_course_timing_masked['complete_late_count'][i] = counter2[(uid,cid)]\n",
        "  if(i % 50000 == 0):\n",
        "    print(i)"
      ],
      "execution_count": 12,
      "outputs": [
        {
          "output_type": "stream",
          "text": [
            "/usr/local/lib/python3.6/dist-packages/ipykernel_launcher.py:18: SettingWithCopyWarning: \n",
            "A value is trying to be set on a copy of a slice from a DataFrame\n",
            "\n",
            "See the caveats in the documentation: https://pandas.pydata.org/pandas-docs/stable/user_guide/indexing.html#returning-a-view-versus-a-copy\n",
            "/usr/local/lib/python3.6/dist-packages/ipykernel_launcher.py:19: SettingWithCopyWarning: \n",
            "A value is trying to be set on a copy of a slice from a DataFrame\n",
            "\n",
            "See the caveats in the documentation: https://pandas.pydata.org/pandas-docs/stable/user_guide/indexing.html#returning-a-view-versus-a-copy\n"
          ],
          "name": "stderr"
        },
        {
          "output_type": "stream",
          "text": [
            "0\n",
            "50000\n",
            "100000\n",
            "150000\n",
            "200000\n",
            "250000\n",
            "300000\n",
            "350000\n",
            "400000\n",
            "450000\n",
            "500000\n",
            "550000\n",
            "600000\n",
            "650000\n",
            "700000\n",
            "750000\n",
            "800000\n",
            "850000\n",
            "900000\n",
            "950000\n",
            "1000000\n"
          ],
          "name": "stdout"
        }
      ]
    },
    {
      "cell_type": "code",
      "metadata": {
        "colab": {
          "base_uri": "https://localhost:8080/"
        },
        "id": "VTTOdapsjXQ8",
        "outputId": "e4e13914-b235-4667-ca0f-5cf711965319"
      },
      "source": [
        "cvocp_user_course_timing_masked['enrolled_count'] = 0\n",
        "counter = dict()\n",
        "for i in range(len(cvocp_user_course_timing_masked)):\n",
        "  if(cvocp_user_course_timing_masked['action_type'][i] == \"enrolled\"):\n",
        "    uid = cvocp_user_course_timing_masked['cv_uid'][i]\n",
        "    if(uid not in counter):\n",
        "      counter[uid] = 1\n",
        "    cvocp_user_course_timing_masked['enrolled_count'][i] = counter[uid]\n",
        "    counter[uid]+=1\n",
        "  if(i % 50000 == 0):\n",
        "    print(i)"
      ],
      "execution_count": 13,
      "outputs": [
        {
          "output_type": "stream",
          "text": [
            "0\n"
          ],
          "name": "stdout"
        },
        {
          "output_type": "stream",
          "text": [
            "/usr/local/lib/python3.6/dist-packages/ipykernel_launcher.py:8: SettingWithCopyWarning: \n",
            "A value is trying to be set on a copy of a slice from a DataFrame\n",
            "\n",
            "See the caveats in the documentation: https://pandas.pydata.org/pandas-docs/stable/user_guide/indexing.html#returning-a-view-versus-a-copy\n",
            "  \n"
          ],
          "name": "stderr"
        },
        {
          "output_type": "stream",
          "text": [
            "50000\n",
            "100000\n",
            "150000\n",
            "200000\n",
            "250000\n",
            "300000\n",
            "350000\n",
            "400000\n",
            "450000\n",
            "500000\n",
            "550000\n",
            "600000\n",
            "650000\n",
            "700000\n",
            "750000\n",
            "800000\n",
            "850000\n",
            "900000\n",
            "950000\n",
            "1000000\n"
          ],
          "name": "stdout"
        }
      ]
    },
    {
      "cell_type": "code",
      "metadata": {
        "colab": {
          "base_uri": "https://localhost:8080/",
          "height": 224
        },
        "id": "gLEE-tPUuGgJ",
        "outputId": "6db66f8b-5768-4302-944e-8f2e63539d7e"
      },
      "source": [
        "cvocp_user_course_timing_masked.head()"
      ],
      "execution_count": 15,
      "outputs": [
        {
          "output_type": "execute_result",
          "data": {
            "text/html": [
              "<div>\n",
              "<style scoped>\n",
              "    .dataframe tbody tr th:only-of-type {\n",
              "        vertical-align: middle;\n",
              "    }\n",
              "\n",
              "    .dataframe tbody tr th {\n",
              "        vertical-align: top;\n",
              "    }\n",
              "\n",
              "    .dataframe thead th {\n",
              "        text-align: right;\n",
              "    }\n",
              "</style>\n",
              "<table border=\"1\" class=\"dataframe\">\n",
              "  <thead>\n",
              "    <tr style=\"text-align: right;\">\n",
              "      <th></th>\n",
              "      <th>record_id</th>\n",
              "      <th>cv_uid</th>\n",
              "      <th>cv_cid</th>\n",
              "      <th>action_type</th>\n",
              "      <th>assoc_id</th>\n",
              "      <th>assoc_id2</th>\n",
              "      <th>timestamp</th>\n",
              "      <th>timestamp2</th>\n",
              "      <th>action_count</th>\n",
              "      <th>complete_in_time_count</th>\n",
              "      <th>complete_late_count</th>\n",
              "      <th>enrolled_count</th>\n",
              "    </tr>\n",
              "  </thead>\n",
              "  <tbody>\n",
              "    <tr>\n",
              "      <th>0</th>\n",
              "      <td>1</td>\n",
              "      <td>KP0XGECF1SGVOS2O24VF</td>\n",
              "      <td>UMF4ZAMAJ3UAKSY5URJR</td>\n",
              "      <td>quiz_submitted</td>\n",
              "      <td>JMYCQPQ9ZCPXEEEMSHIH</td>\n",
              "      <td>SRGWN4LOSQEK8A51ENFQ</td>\n",
              "      <td>1530413688</td>\n",
              "      <td>0.000000</td>\n",
              "      <td>1</td>\n",
              "      <td>0</td>\n",
              "      <td>0</td>\n",
              "      <td>0</td>\n",
              "    </tr>\n",
              "    <tr>\n",
              "      <th>1</th>\n",
              "      <td>2</td>\n",
              "      <td>KP0XGECF1SGVOS2O24VF</td>\n",
              "      <td>UMF4ZAMAJ3UAKSY5URJR</td>\n",
              "      <td>quiz_submitted</td>\n",
              "      <td>JMYCQPQ9ZCPXEEEMSHIH</td>\n",
              "      <td>SRGWN4LOSQEK8A51ENFQ</td>\n",
              "      <td>1530413709</td>\n",
              "      <td>0.000243</td>\n",
              "      <td>2</td>\n",
              "      <td>0</td>\n",
              "      <td>0</td>\n",
              "      <td>0</td>\n",
              "    </tr>\n",
              "    <tr>\n",
              "      <th>2</th>\n",
              "      <td>3</td>\n",
              "      <td>KP0XGECF1SGVOS2O24VF</td>\n",
              "      <td>UMF4ZAMAJ3UAKSY5URJR</td>\n",
              "      <td>quiz_submitted</td>\n",
              "      <td>JMYCQPQ9ZCPXEEEMSHIH</td>\n",
              "      <td>SRGWN4LOSQEK8A51ENFQ</td>\n",
              "      <td>1530413724</td>\n",
              "      <td>0.000417</td>\n",
              "      <td>3</td>\n",
              "      <td>0</td>\n",
              "      <td>0</td>\n",
              "      <td>0</td>\n",
              "    </tr>\n",
              "    <tr>\n",
              "      <th>3</th>\n",
              "      <td>4</td>\n",
              "      <td>KP0XGECF1SGVOS2O24VF</td>\n",
              "      <td>UMF4ZAMAJ3UAKSY5URJR</td>\n",
              "      <td>quiz_submitted</td>\n",
              "      <td>JMYCQPQ9ZCPXEEEMSHIH</td>\n",
              "      <td>SRGWN4LOSQEK8A51ENFQ</td>\n",
              "      <td>1530413741</td>\n",
              "      <td>0.000613</td>\n",
              "      <td>4</td>\n",
              "      <td>0</td>\n",
              "      <td>0</td>\n",
              "      <td>0</td>\n",
              "    </tr>\n",
              "    <tr>\n",
              "      <th>4</th>\n",
              "      <td>5</td>\n",
              "      <td>KH8UA5P183ESRY8BQSNP</td>\n",
              "      <td>7M978UYOQ7J2A0EGDK3D</td>\n",
              "      <td>quiz_opened</td>\n",
              "      <td>83PK3M4EQRNVOPDASXCL</td>\n",
              "      <td>7LSY9RBX6NM0NX4RC4RY</td>\n",
              "      <td>1530413927</td>\n",
              "      <td>0.002766</td>\n",
              "      <td>1</td>\n",
              "      <td>0</td>\n",
              "      <td>0</td>\n",
              "      <td>0</td>\n",
              "    </tr>\n",
              "  </tbody>\n",
              "</table>\n",
              "</div>"
            ],
            "text/plain": [
              "   record_id                cv_uid  ... complete_late_count enrolled_count\n",
              "0          1  KP0XGECF1SGVOS2O24VF  ...                   0              0\n",
              "1          2  KP0XGECF1SGVOS2O24VF  ...                   0              0\n",
              "2          3  KP0XGECF1SGVOS2O24VF  ...                   0              0\n",
              "3          4  KP0XGECF1SGVOS2O24VF  ...                   0              0\n",
              "4          5  KH8UA5P183ESRY8BQSNP  ...                   0              0\n",
              "\n",
              "[5 rows x 12 columns]"
            ]
          },
          "metadata": {
            "tags": []
          },
          "execution_count": 15
        }
      ]
    },
    {
      "cell_type": "code",
      "metadata": {
        "colab": {
          "base_uri": "https://localhost:8080/"
        },
        "id": "-OmiiUnDwWOo",
        "outputId": "f3149578-bd52-4d88-99a9-354fd6e43d8b"
      },
      "source": [
        "print(sum(cvocp_user_course_timing_masked['complete_in_time_count']>0))"
      ],
      "execution_count": 16,
      "outputs": [
        {
          "output_type": "stream",
          "text": [
            "42740\n"
          ],
          "name": "stdout"
        }
      ]
    },
    {
      "cell_type": "code",
      "metadata": {
        "id": "S2OZHackwJJq"
      },
      "source": [
        "# 0 - เรียนไม่จบ 1 - กำลังเรียน 2 - เรียนจบทันเวลา 3 - เรียนจบเลท\n",
        "#cvocp_user_course_timing_masked['label'] = 0 "
      ],
      "execution_count": null,
      "outputs": []
    },
    {
      "cell_type": "code",
      "metadata": {
        "colab": {
          "base_uri": "https://localhost:8080/",
          "height": 615
        },
        "id": "62NNR-18yO7H",
        "outputId": "5e21654d-48bf-4189-d1cb-e466e104f4a1"
      },
      "source": [
        "cvocp_user_info_masked = pd.read_csv(specific_direction+\"05_cvocp_user_info_masked.csv\")\n",
        "cvocp_user_info_masked.info()\n",
        "dataframe = cvocp_user_course_timing_masked.join(cvocp_user_info_masked.set_index('cv_uid'), on ='cv_uid')\n",
        "dataframe.head()"
      ],
      "execution_count": 17,
      "outputs": [
        {
          "output_type": "stream",
          "text": [
            "<class 'pandas.core.frame.DataFrame'>\n",
            "RangeIndex: 51036 entries, 0 to 51035\n",
            "Data columns (total 6 columns):\n",
            " #   Column       Non-Null Count  Dtype  \n",
            "---  ------       --------------  -----  \n",
            " 0   cv_uid       51036 non-null  object \n",
            " 1   education    51035 non-null  object \n",
            " 2   occupation   51035 non-null  object \n",
            " 3   gender       51035 non-null  object \n",
            " 4   yearofbirth  51035 non-null  float64\n",
            " 5   residence    51035 non-null  object \n",
            "dtypes: float64(1), object(5)\n",
            "memory usage: 2.3+ MB\n"
          ],
          "name": "stdout"
        },
        {
          "output_type": "execute_result",
          "data": {
            "text/html": [
              "<div>\n",
              "<style scoped>\n",
              "    .dataframe tbody tr th:only-of-type {\n",
              "        vertical-align: middle;\n",
              "    }\n",
              "\n",
              "    .dataframe tbody tr th {\n",
              "        vertical-align: top;\n",
              "    }\n",
              "\n",
              "    .dataframe thead th {\n",
              "        text-align: right;\n",
              "    }\n",
              "</style>\n",
              "<table border=\"1\" class=\"dataframe\">\n",
              "  <thead>\n",
              "    <tr style=\"text-align: right;\">\n",
              "      <th></th>\n",
              "      <th>record_id</th>\n",
              "      <th>cv_uid</th>\n",
              "      <th>cv_cid</th>\n",
              "      <th>action_type</th>\n",
              "      <th>assoc_id</th>\n",
              "      <th>assoc_id2</th>\n",
              "      <th>timestamp</th>\n",
              "      <th>timestamp2</th>\n",
              "      <th>action_count</th>\n",
              "      <th>complete_in_time_count</th>\n",
              "      <th>complete_late_count</th>\n",
              "      <th>enrolled_count</th>\n",
              "      <th>education</th>\n",
              "      <th>occupation</th>\n",
              "      <th>gender</th>\n",
              "      <th>yearofbirth</th>\n",
              "      <th>residence</th>\n",
              "    </tr>\n",
              "  </thead>\n",
              "  <tbody>\n",
              "    <tr>\n",
              "      <th>0</th>\n",
              "      <td>1</td>\n",
              "      <td>KP0XGECF1SGVOS2O24VF</td>\n",
              "      <td>UMF4ZAMAJ3UAKSY5URJR</td>\n",
              "      <td>quiz_submitted</td>\n",
              "      <td>JMYCQPQ9ZCPXEEEMSHIH</td>\n",
              "      <td>SRGWN4LOSQEK8A51ENFQ</td>\n",
              "      <td>1530413688</td>\n",
              "      <td>0.000000</td>\n",
              "      <td>1</td>\n",
              "      <td>0</td>\n",
              "      <td>0</td>\n",
              "      <td>0</td>\n",
              "      <td>Above Bachelor Degree</td>\n",
              "      <td>Govenment/State Enterprise Employee</td>\n",
              "      <td>Female</td>\n",
              "      <td>1987.0</td>\n",
              "      <td>Bangkok</td>\n",
              "    </tr>\n",
              "    <tr>\n",
              "      <th>1</th>\n",
              "      <td>2</td>\n",
              "      <td>KP0XGECF1SGVOS2O24VF</td>\n",
              "      <td>UMF4ZAMAJ3UAKSY5URJR</td>\n",
              "      <td>quiz_submitted</td>\n",
              "      <td>JMYCQPQ9ZCPXEEEMSHIH</td>\n",
              "      <td>SRGWN4LOSQEK8A51ENFQ</td>\n",
              "      <td>1530413709</td>\n",
              "      <td>0.000243</td>\n",
              "      <td>2</td>\n",
              "      <td>0</td>\n",
              "      <td>0</td>\n",
              "      <td>0</td>\n",
              "      <td>Above Bachelor Degree</td>\n",
              "      <td>Govenment/State Enterprise Employee</td>\n",
              "      <td>Female</td>\n",
              "      <td>1987.0</td>\n",
              "      <td>Bangkok</td>\n",
              "    </tr>\n",
              "    <tr>\n",
              "      <th>2</th>\n",
              "      <td>3</td>\n",
              "      <td>KP0XGECF1SGVOS2O24VF</td>\n",
              "      <td>UMF4ZAMAJ3UAKSY5URJR</td>\n",
              "      <td>quiz_submitted</td>\n",
              "      <td>JMYCQPQ9ZCPXEEEMSHIH</td>\n",
              "      <td>SRGWN4LOSQEK8A51ENFQ</td>\n",
              "      <td>1530413724</td>\n",
              "      <td>0.000417</td>\n",
              "      <td>3</td>\n",
              "      <td>0</td>\n",
              "      <td>0</td>\n",
              "      <td>0</td>\n",
              "      <td>Above Bachelor Degree</td>\n",
              "      <td>Govenment/State Enterprise Employee</td>\n",
              "      <td>Female</td>\n",
              "      <td>1987.0</td>\n",
              "      <td>Bangkok</td>\n",
              "    </tr>\n",
              "    <tr>\n",
              "      <th>3</th>\n",
              "      <td>4</td>\n",
              "      <td>KP0XGECF1SGVOS2O24VF</td>\n",
              "      <td>UMF4ZAMAJ3UAKSY5URJR</td>\n",
              "      <td>quiz_submitted</td>\n",
              "      <td>JMYCQPQ9ZCPXEEEMSHIH</td>\n",
              "      <td>SRGWN4LOSQEK8A51ENFQ</td>\n",
              "      <td>1530413741</td>\n",
              "      <td>0.000613</td>\n",
              "      <td>4</td>\n",
              "      <td>0</td>\n",
              "      <td>0</td>\n",
              "      <td>0</td>\n",
              "      <td>Above Bachelor Degree</td>\n",
              "      <td>Govenment/State Enterprise Employee</td>\n",
              "      <td>Female</td>\n",
              "      <td>1987.0</td>\n",
              "      <td>Bangkok</td>\n",
              "    </tr>\n",
              "    <tr>\n",
              "      <th>4</th>\n",
              "      <td>5</td>\n",
              "      <td>KH8UA5P183ESRY8BQSNP</td>\n",
              "      <td>7M978UYOQ7J2A0EGDK3D</td>\n",
              "      <td>quiz_opened</td>\n",
              "      <td>83PK3M4EQRNVOPDASXCL</td>\n",
              "      <td>7LSY9RBX6NM0NX4RC4RY</td>\n",
              "      <td>1530413927</td>\n",
              "      <td>0.002766</td>\n",
              "      <td>1</td>\n",
              "      <td>0</td>\n",
              "      <td>0</td>\n",
              "      <td>0</td>\n",
              "      <td>Above Bachelor Degree</td>\n",
              "      <td>Govenment/State Enterprise Employee</td>\n",
              "      <td>Male</td>\n",
              "      <td>1976.0</td>\n",
              "      <td>Bangkok</td>\n",
              "    </tr>\n",
              "  </tbody>\n",
              "</table>\n",
              "</div>"
            ],
            "text/plain": [
              "   record_id                cv_uid  ... yearofbirth residence\n",
              "0          1  KP0XGECF1SGVOS2O24VF  ...      1987.0   Bangkok\n",
              "1          2  KP0XGECF1SGVOS2O24VF  ...      1987.0   Bangkok\n",
              "2          3  KP0XGECF1SGVOS2O24VF  ...      1987.0   Bangkok\n",
              "3          4  KP0XGECF1SGVOS2O24VF  ...      1987.0   Bangkok\n",
              "4          5  KH8UA5P183ESRY8BQSNP  ...      1976.0   Bangkok\n",
              "\n",
              "[5 rows x 17 columns]"
            ]
          },
          "metadata": {
            "tags": []
          },
          "execution_count": 17
        }
      ]
    },
    {
      "cell_type": "code",
      "metadata": {
        "colab": {
          "base_uri": "https://localhost:8080/",
          "height": 394
        },
        "id": "3gtanGo1yaot",
        "outputId": "21084f53-8f09-4f80-a3fa-03f58c3d5d4b"
      },
      "source": [
        "cvocp_course_masked = pd.read_csv(specific_direction+\"03_cvocp_course_masked.csv\")\n",
        "dataframe2 = dataframe.join(cvocp_course_masked.set_index('cv_cid')[['reg_workflow','course_type','roster_limit','course_start','course_end','reg_start','reg_end']] , on='cv_cid')\n",
        "dataframe2.head()"
      ],
      "execution_count": 18,
      "outputs": [
        {
          "output_type": "execute_result",
          "data": {
            "text/html": [
              "<div>\n",
              "<style scoped>\n",
              "    .dataframe tbody tr th:only-of-type {\n",
              "        vertical-align: middle;\n",
              "    }\n",
              "\n",
              "    .dataframe tbody tr th {\n",
              "        vertical-align: top;\n",
              "    }\n",
              "\n",
              "    .dataframe thead th {\n",
              "        text-align: right;\n",
              "    }\n",
              "</style>\n",
              "<table border=\"1\" class=\"dataframe\">\n",
              "  <thead>\n",
              "    <tr style=\"text-align: right;\">\n",
              "      <th></th>\n",
              "      <th>record_id</th>\n",
              "      <th>cv_uid</th>\n",
              "      <th>cv_cid</th>\n",
              "      <th>action_type</th>\n",
              "      <th>assoc_id</th>\n",
              "      <th>assoc_id2</th>\n",
              "      <th>timestamp</th>\n",
              "      <th>timestamp2</th>\n",
              "      <th>action_count</th>\n",
              "      <th>complete_in_time_count</th>\n",
              "      <th>complete_late_count</th>\n",
              "      <th>enrolled_count</th>\n",
              "      <th>education</th>\n",
              "      <th>occupation</th>\n",
              "      <th>gender</th>\n",
              "      <th>yearofbirth</th>\n",
              "      <th>residence</th>\n",
              "      <th>reg_workflow</th>\n",
              "      <th>course_type</th>\n",
              "      <th>roster_limit</th>\n",
              "      <th>course_start</th>\n",
              "      <th>course_end</th>\n",
              "      <th>reg_start</th>\n",
              "      <th>reg_end</th>\n",
              "    </tr>\n",
              "  </thead>\n",
              "  <tbody>\n",
              "    <tr>\n",
              "      <th>0</th>\n",
              "      <td>1</td>\n",
              "      <td>KP0XGECF1SGVOS2O24VF</td>\n",
              "      <td>UMF4ZAMAJ3UAKSY5URJR</td>\n",
              "      <td>quiz_submitted</td>\n",
              "      <td>JMYCQPQ9ZCPXEEEMSHIH</td>\n",
              "      <td>SRGWN4LOSQEK8A51ENFQ</td>\n",
              "      <td>1530413688</td>\n",
              "      <td>0.000000</td>\n",
              "      <td>1</td>\n",
              "      <td>0</td>\n",
              "      <td>0</td>\n",
              "      <td>0</td>\n",
              "      <td>Above Bachelor Degree</td>\n",
              "      <td>Govenment/State Enterprise Employee</td>\n",
              "      <td>Female</td>\n",
              "      <td>1987.0</td>\n",
              "      <td>Bangkok</td>\n",
              "      <td>free_selfreg</td>\n",
              "      <td>selfpace</td>\n",
              "      <td>2000</td>\n",
              "      <td>1528131600</td>\n",
              "      <td>1533056399</td>\n",
              "      <td>1528131600</td>\n",
              "      <td>1529341199</td>\n",
              "    </tr>\n",
              "    <tr>\n",
              "      <th>1</th>\n",
              "      <td>2</td>\n",
              "      <td>KP0XGECF1SGVOS2O24VF</td>\n",
              "      <td>UMF4ZAMAJ3UAKSY5URJR</td>\n",
              "      <td>quiz_submitted</td>\n",
              "      <td>JMYCQPQ9ZCPXEEEMSHIH</td>\n",
              "      <td>SRGWN4LOSQEK8A51ENFQ</td>\n",
              "      <td>1530413709</td>\n",
              "      <td>0.000243</td>\n",
              "      <td>2</td>\n",
              "      <td>0</td>\n",
              "      <td>0</td>\n",
              "      <td>0</td>\n",
              "      <td>Above Bachelor Degree</td>\n",
              "      <td>Govenment/State Enterprise Employee</td>\n",
              "      <td>Female</td>\n",
              "      <td>1987.0</td>\n",
              "      <td>Bangkok</td>\n",
              "      <td>free_selfreg</td>\n",
              "      <td>selfpace</td>\n",
              "      <td>2000</td>\n",
              "      <td>1528131600</td>\n",
              "      <td>1533056399</td>\n",
              "      <td>1528131600</td>\n",
              "      <td>1529341199</td>\n",
              "    </tr>\n",
              "    <tr>\n",
              "      <th>2</th>\n",
              "      <td>3</td>\n",
              "      <td>KP0XGECF1SGVOS2O24VF</td>\n",
              "      <td>UMF4ZAMAJ3UAKSY5URJR</td>\n",
              "      <td>quiz_submitted</td>\n",
              "      <td>JMYCQPQ9ZCPXEEEMSHIH</td>\n",
              "      <td>SRGWN4LOSQEK8A51ENFQ</td>\n",
              "      <td>1530413724</td>\n",
              "      <td>0.000417</td>\n",
              "      <td>3</td>\n",
              "      <td>0</td>\n",
              "      <td>0</td>\n",
              "      <td>0</td>\n",
              "      <td>Above Bachelor Degree</td>\n",
              "      <td>Govenment/State Enterprise Employee</td>\n",
              "      <td>Female</td>\n",
              "      <td>1987.0</td>\n",
              "      <td>Bangkok</td>\n",
              "      <td>free_selfreg</td>\n",
              "      <td>selfpace</td>\n",
              "      <td>2000</td>\n",
              "      <td>1528131600</td>\n",
              "      <td>1533056399</td>\n",
              "      <td>1528131600</td>\n",
              "      <td>1529341199</td>\n",
              "    </tr>\n",
              "    <tr>\n",
              "      <th>3</th>\n",
              "      <td>4</td>\n",
              "      <td>KP0XGECF1SGVOS2O24VF</td>\n",
              "      <td>UMF4ZAMAJ3UAKSY5URJR</td>\n",
              "      <td>quiz_submitted</td>\n",
              "      <td>JMYCQPQ9ZCPXEEEMSHIH</td>\n",
              "      <td>SRGWN4LOSQEK8A51ENFQ</td>\n",
              "      <td>1530413741</td>\n",
              "      <td>0.000613</td>\n",
              "      <td>4</td>\n",
              "      <td>0</td>\n",
              "      <td>0</td>\n",
              "      <td>0</td>\n",
              "      <td>Above Bachelor Degree</td>\n",
              "      <td>Govenment/State Enterprise Employee</td>\n",
              "      <td>Female</td>\n",
              "      <td>1987.0</td>\n",
              "      <td>Bangkok</td>\n",
              "      <td>free_selfreg</td>\n",
              "      <td>selfpace</td>\n",
              "      <td>2000</td>\n",
              "      <td>1528131600</td>\n",
              "      <td>1533056399</td>\n",
              "      <td>1528131600</td>\n",
              "      <td>1529341199</td>\n",
              "    </tr>\n",
              "    <tr>\n",
              "      <th>4</th>\n",
              "      <td>5</td>\n",
              "      <td>KH8UA5P183ESRY8BQSNP</td>\n",
              "      <td>7M978UYOQ7J2A0EGDK3D</td>\n",
              "      <td>quiz_opened</td>\n",
              "      <td>83PK3M4EQRNVOPDASXCL</td>\n",
              "      <td>7LSY9RBX6NM0NX4RC4RY</td>\n",
              "      <td>1530413927</td>\n",
              "      <td>0.002766</td>\n",
              "      <td>1</td>\n",
              "      <td>0</td>\n",
              "      <td>0</td>\n",
              "      <td>0</td>\n",
              "      <td>Above Bachelor Degree</td>\n",
              "      <td>Govenment/State Enterprise Employee</td>\n",
              "      <td>Male</td>\n",
              "      <td>1976.0</td>\n",
              "      <td>Bangkok</td>\n",
              "      <td>free_selfreg</td>\n",
              "      <td>selfpace</td>\n",
              "      <td>3500</td>\n",
              "      <td>1528218000</td>\n",
              "      <td>1533056399</td>\n",
              "      <td>1528218000</td>\n",
              "      <td>1529427599</td>\n",
              "    </tr>\n",
              "  </tbody>\n",
              "</table>\n",
              "</div>"
            ],
            "text/plain": [
              "   record_id                cv_uid  ...   reg_start     reg_end\n",
              "0          1  KP0XGECF1SGVOS2O24VF  ...  1528131600  1529341199\n",
              "1          2  KP0XGECF1SGVOS2O24VF  ...  1528131600  1529341199\n",
              "2          3  KP0XGECF1SGVOS2O24VF  ...  1528131600  1529341199\n",
              "3          4  KP0XGECF1SGVOS2O24VF  ...  1528131600  1529341199\n",
              "4          5  KH8UA5P183ESRY8BQSNP  ...  1528218000  1529427599\n",
              "\n",
              "[5 rows x 24 columns]"
            ]
          },
          "metadata": {
            "tags": []
          },
          "execution_count": 18
        }
      ]
    },
    {
      "cell_type": "code",
      "metadata": {
        "colab": {
          "base_uri": "https://localhost:8080/",
          "height": 394
        },
        "id": "54iIm5WuyQxY",
        "outputId": "7e162ab6-581e-4bb8-a00e-4c337a306b5a"
      },
      "source": [
        "char_has_nan_col = ['education','occupation','gender','residence','reg_workflow','course_type']\n",
        "num_has_nan_col = ['yearofbirth','course_start','course_end','reg_start','reg_end']\n",
        "drop_col = ['assoc_id','assoc_id2']\n",
        "dataframe2 = dataframe2.drop(drop_col,axis = 1)\n",
        "dataframe2.head()"
      ],
      "execution_count": 19,
      "outputs": [
        {
          "output_type": "execute_result",
          "data": {
            "text/html": [
              "<div>\n",
              "<style scoped>\n",
              "    .dataframe tbody tr th:only-of-type {\n",
              "        vertical-align: middle;\n",
              "    }\n",
              "\n",
              "    .dataframe tbody tr th {\n",
              "        vertical-align: top;\n",
              "    }\n",
              "\n",
              "    .dataframe thead th {\n",
              "        text-align: right;\n",
              "    }\n",
              "</style>\n",
              "<table border=\"1\" class=\"dataframe\">\n",
              "  <thead>\n",
              "    <tr style=\"text-align: right;\">\n",
              "      <th></th>\n",
              "      <th>record_id</th>\n",
              "      <th>cv_uid</th>\n",
              "      <th>cv_cid</th>\n",
              "      <th>action_type</th>\n",
              "      <th>timestamp</th>\n",
              "      <th>timestamp2</th>\n",
              "      <th>action_count</th>\n",
              "      <th>complete_in_time_count</th>\n",
              "      <th>complete_late_count</th>\n",
              "      <th>enrolled_count</th>\n",
              "      <th>education</th>\n",
              "      <th>occupation</th>\n",
              "      <th>gender</th>\n",
              "      <th>yearofbirth</th>\n",
              "      <th>residence</th>\n",
              "      <th>reg_workflow</th>\n",
              "      <th>course_type</th>\n",
              "      <th>roster_limit</th>\n",
              "      <th>course_start</th>\n",
              "      <th>course_end</th>\n",
              "      <th>reg_start</th>\n",
              "      <th>reg_end</th>\n",
              "    </tr>\n",
              "  </thead>\n",
              "  <tbody>\n",
              "    <tr>\n",
              "      <th>0</th>\n",
              "      <td>1</td>\n",
              "      <td>KP0XGECF1SGVOS2O24VF</td>\n",
              "      <td>UMF4ZAMAJ3UAKSY5URJR</td>\n",
              "      <td>quiz_submitted</td>\n",
              "      <td>1530413688</td>\n",
              "      <td>0.000000</td>\n",
              "      <td>1</td>\n",
              "      <td>0</td>\n",
              "      <td>0</td>\n",
              "      <td>0</td>\n",
              "      <td>Above Bachelor Degree</td>\n",
              "      <td>Govenment/State Enterprise Employee</td>\n",
              "      <td>Female</td>\n",
              "      <td>1987.0</td>\n",
              "      <td>Bangkok</td>\n",
              "      <td>free_selfreg</td>\n",
              "      <td>selfpace</td>\n",
              "      <td>2000</td>\n",
              "      <td>1528131600</td>\n",
              "      <td>1533056399</td>\n",
              "      <td>1528131600</td>\n",
              "      <td>1529341199</td>\n",
              "    </tr>\n",
              "    <tr>\n",
              "      <th>1</th>\n",
              "      <td>2</td>\n",
              "      <td>KP0XGECF1SGVOS2O24VF</td>\n",
              "      <td>UMF4ZAMAJ3UAKSY5URJR</td>\n",
              "      <td>quiz_submitted</td>\n",
              "      <td>1530413709</td>\n",
              "      <td>0.000243</td>\n",
              "      <td>2</td>\n",
              "      <td>0</td>\n",
              "      <td>0</td>\n",
              "      <td>0</td>\n",
              "      <td>Above Bachelor Degree</td>\n",
              "      <td>Govenment/State Enterprise Employee</td>\n",
              "      <td>Female</td>\n",
              "      <td>1987.0</td>\n",
              "      <td>Bangkok</td>\n",
              "      <td>free_selfreg</td>\n",
              "      <td>selfpace</td>\n",
              "      <td>2000</td>\n",
              "      <td>1528131600</td>\n",
              "      <td>1533056399</td>\n",
              "      <td>1528131600</td>\n",
              "      <td>1529341199</td>\n",
              "    </tr>\n",
              "    <tr>\n",
              "      <th>2</th>\n",
              "      <td>3</td>\n",
              "      <td>KP0XGECF1SGVOS2O24VF</td>\n",
              "      <td>UMF4ZAMAJ3UAKSY5URJR</td>\n",
              "      <td>quiz_submitted</td>\n",
              "      <td>1530413724</td>\n",
              "      <td>0.000417</td>\n",
              "      <td>3</td>\n",
              "      <td>0</td>\n",
              "      <td>0</td>\n",
              "      <td>0</td>\n",
              "      <td>Above Bachelor Degree</td>\n",
              "      <td>Govenment/State Enterprise Employee</td>\n",
              "      <td>Female</td>\n",
              "      <td>1987.0</td>\n",
              "      <td>Bangkok</td>\n",
              "      <td>free_selfreg</td>\n",
              "      <td>selfpace</td>\n",
              "      <td>2000</td>\n",
              "      <td>1528131600</td>\n",
              "      <td>1533056399</td>\n",
              "      <td>1528131600</td>\n",
              "      <td>1529341199</td>\n",
              "    </tr>\n",
              "    <tr>\n",
              "      <th>3</th>\n",
              "      <td>4</td>\n",
              "      <td>KP0XGECF1SGVOS2O24VF</td>\n",
              "      <td>UMF4ZAMAJ3UAKSY5URJR</td>\n",
              "      <td>quiz_submitted</td>\n",
              "      <td>1530413741</td>\n",
              "      <td>0.000613</td>\n",
              "      <td>4</td>\n",
              "      <td>0</td>\n",
              "      <td>0</td>\n",
              "      <td>0</td>\n",
              "      <td>Above Bachelor Degree</td>\n",
              "      <td>Govenment/State Enterprise Employee</td>\n",
              "      <td>Female</td>\n",
              "      <td>1987.0</td>\n",
              "      <td>Bangkok</td>\n",
              "      <td>free_selfreg</td>\n",
              "      <td>selfpace</td>\n",
              "      <td>2000</td>\n",
              "      <td>1528131600</td>\n",
              "      <td>1533056399</td>\n",
              "      <td>1528131600</td>\n",
              "      <td>1529341199</td>\n",
              "    </tr>\n",
              "    <tr>\n",
              "      <th>4</th>\n",
              "      <td>5</td>\n",
              "      <td>KH8UA5P183ESRY8BQSNP</td>\n",
              "      <td>7M978UYOQ7J2A0EGDK3D</td>\n",
              "      <td>quiz_opened</td>\n",
              "      <td>1530413927</td>\n",
              "      <td>0.002766</td>\n",
              "      <td>1</td>\n",
              "      <td>0</td>\n",
              "      <td>0</td>\n",
              "      <td>0</td>\n",
              "      <td>Above Bachelor Degree</td>\n",
              "      <td>Govenment/State Enterprise Employee</td>\n",
              "      <td>Male</td>\n",
              "      <td>1976.0</td>\n",
              "      <td>Bangkok</td>\n",
              "      <td>free_selfreg</td>\n",
              "      <td>selfpace</td>\n",
              "      <td>3500</td>\n",
              "      <td>1528218000</td>\n",
              "      <td>1533056399</td>\n",
              "      <td>1528218000</td>\n",
              "      <td>1529427599</td>\n",
              "    </tr>\n",
              "  </tbody>\n",
              "</table>\n",
              "</div>"
            ],
            "text/plain": [
              "   record_id                cv_uid  ...   reg_start     reg_end\n",
              "0          1  KP0XGECF1SGVOS2O24VF  ...  1528131600  1529341199\n",
              "1          2  KP0XGECF1SGVOS2O24VF  ...  1528131600  1529341199\n",
              "2          3  KP0XGECF1SGVOS2O24VF  ...  1528131600  1529341199\n",
              "3          4  KP0XGECF1SGVOS2O24VF  ...  1528131600  1529341199\n",
              "4          5  KH8UA5P183ESRY8BQSNP  ...  1528218000  1529427599\n",
              "\n",
              "[5 rows x 22 columns]"
            ]
          },
          "metadata": {
            "tags": []
          },
          "execution_count": 19
        }
      ]
    },
    {
      "cell_type": "code",
      "metadata": {
        "id": "F9q7UBUp0bu9"
      },
      "source": [
        "for col in num_has_nan_col: \n",
        "  dataframe2[col].fillna(-1, inplace = True)\n",
        "for col in char_has_nan_col: \n",
        "  dataframe2[col].fillna(\"missing value\", inplace = True)"
      ],
      "execution_count": 21,
      "outputs": []
    },
    {
      "cell_type": "code",
      "metadata": {
        "id": "UaTUB7cq1CcK"
      },
      "source": [
        "from sklearn.preprocessing import LabelEncoder\n",
        "label_encoder = LabelEncoder()\n",
        "\n",
        "label_dataframe2 = dataframe2.copy()\n",
        "\n",
        "for col in char_has_nan_col : \n",
        "  label_dataframe2[col] = label_encoder.fit_transform(dataframe2[col])"
      ],
      "execution_count": 22,
      "outputs": []
    },
    {
      "cell_type": "markdown",
      "metadata": {
        "id": "p2LhrgDDpgJZ"
      },
      "source": [
        "# Label "
      ]
    },
    {
      "cell_type": "markdown",
      "metadata": {
        "id": "6gMUPSDWqwgO"
      },
      "source": [
        "โดยให้ \n",
        "0 - เรียนไม่จบแล้วไม่กลับมาเรียนอีก\n",
        "\n",
        "1 - เรียนไม่จบแต่กลับมาเรียนอีก \n",
        "\n",
        "2 - เรียนจบทันเวลา \n",
        "\n",
        "3 - เรียนจบเลท\n",
        "\n",
        "โดย 1 - เรียนไม่จบแต่กลับมาเรียนอีก นั้นเป็นบันทึกก่อนที่จะเรียนจบของคนที่เรียนจบ"
      ]
    },
    {
      "cell_type": "code",
      "metadata": {
        "colab": {
          "base_uri": "https://localhost:8080/"
        },
        "id": "EL2jPK3o1vKx",
        "outputId": "27ea472a-5d22-48a7-9960-6d44973c5d0c"
      },
      "source": [
        "label_dataframe2['label'] = 0\n",
        "# 0 - เรียนไม่จบ 1 - กำลังเรียน 2 - เรียนจบทันเวลา 3 - เรียนจบเลท\n",
        "for i in range(len(label_dataframe2)):\n",
        "  uid = cvocp_user_course_timing_masked['cv_uid'][i]\n",
        "  cid = cvocp_user_course_timing_masked['cv_cid'][i]\n",
        "  if(label_dataframe2['action_type'][i]==\"completed_intime\") :\n",
        "    label_dataframe2['label'][i] = 2\n",
        "  elif (label_dataframe2['action_type'][i]==\"completed_late\") :\n",
        "    label_dataframe2['label'][i] = 3\n",
        "  elif(counter1[(uid,cid)]!=0 or counter2[(uid,cid)]!=0):\n",
        "    label_dataframe2['label'][i] = 1\n",
        "  if(i % 50000 == 0):\n",
        "    print(i)"
      ],
      "execution_count": 23,
      "outputs": [
        {
          "output_type": "stream",
          "text": [
            "/usr/local/lib/python3.6/dist-packages/ipykernel_launcher.py:11: SettingWithCopyWarning: \n",
            "A value is trying to be set on a copy of a slice from a DataFrame\n",
            "\n",
            "See the caveats in the documentation: https://pandas.pydata.org/pandas-docs/stable/user_guide/indexing.html#returning-a-view-versus-a-copy\n",
            "  # This is added back by InteractiveShellApp.init_path()\n",
            "/usr/local/lib/python3.6/dist-packages/ipykernel_launcher.py:7: SettingWithCopyWarning: \n",
            "A value is trying to be set on a copy of a slice from a DataFrame\n",
            "\n",
            "See the caveats in the documentation: https://pandas.pydata.org/pandas-docs/stable/user_guide/indexing.html#returning-a-view-versus-a-copy\n",
            "  import sys\n",
            "/usr/local/lib/python3.6/dist-packages/ipykernel_launcher.py:9: SettingWithCopyWarning: \n",
            "A value is trying to be set on a copy of a slice from a DataFrame\n",
            "\n",
            "See the caveats in the documentation: https://pandas.pydata.org/pandas-docs/stable/user_guide/indexing.html#returning-a-view-versus-a-copy\n",
            "  if __name__ == '__main__':\n"
          ],
          "name": "stderr"
        },
        {
          "output_type": "stream",
          "text": [
            "0\n",
            "50000\n",
            "100000\n",
            "150000\n",
            "200000\n",
            "250000\n",
            "300000\n",
            "350000\n",
            "400000\n",
            "450000\n",
            "500000\n",
            "550000\n",
            "600000\n",
            "650000\n",
            "700000\n",
            "750000\n",
            "800000\n",
            "850000\n",
            "900000\n",
            "950000\n",
            "1000000\n"
          ],
          "name": "stdout"
        }
      ]
    },
    {
      "cell_type": "markdown",
      "metadata": {
        "id": "ajiumGs_pwhR"
      },
      "source": [
        "# Drop บันทึกที่ในช่วงสองสัปดาห์สุดท้าย เนื่องจากยากที่จะระบุว่าจะไม่กลับมาเรียนใหม่\n",
        "*สองสัปดาห์เป็นค่าที่นึกขึ้นมาเอง ควรเลือกค่าจากสถิติ*"
      ]
    },
    {
      "cell_type": "code",
      "metadata": {
        "id": "cKDohfDZ14-q"
      },
      "source": [
        "max_timestamp = max(label_dataframe2['timestamp']) \n",
        "two_week = 2 * 7 * 24 * 3600\n",
        "new_label_dataframe2 = label_dataframe2[(label_dataframe2['timestamp'] < max_timestamp - two_week)]"
      ],
      "execution_count": 54,
      "outputs": []
    },
    {
      "cell_type": "code",
      "metadata": {
        "colab": {
          "base_uri": "https://localhost:8080/"
        },
        "id": "R_QMOdx84gPu",
        "outputId": "21f3a0bd-5e41-4a02-f4b0-2a95d8f7d3da"
      },
      "source": [
        "print(len(new_label_dataframe2))\n",
        "new_label_dataframe2.head()\n",
        "selected_feater = ['timestamp','complete_in_time_count','complete_late_count','enrolled_count','education','occupation','gender','yearofbirth','residence','residence','course_type','roster_limit','course_start','course_end','reg_start','reg_end']\n",
        "X = new_label_dataframe2[selected_feater]\n",
        "y = new_label_dataframe2['label']"
      ],
      "execution_count": 56,
      "outputs": [
        {
          "output_type": "stream",
          "text": [
            "984692\n"
          ],
          "name": "stdout"
        }
      ]
    },
    {
      "cell_type": "code",
      "metadata": {
        "colab": {
          "base_uri": "https://localhost:8080/"
        },
        "id": "ol1aUrVvnaFD",
        "outputId": "1570e895-5d1b-40d8-9ec8-592d12b77da3"
      },
      "source": [
        "X.columns"
      ],
      "execution_count": 57,
      "outputs": [
        {
          "output_type": "execute_result",
          "data": {
            "text/plain": [
              "Index(['timestamp', 'complete_in_time_count', 'complete_late_count',\n",
              "       'enrolled_count', 'education', 'occupation', 'gender', 'yearofbirth',\n",
              "       'residence', 'residence', 'course_type', 'roster_limit', 'course_start',\n",
              "       'course_end', 'reg_start', 'reg_end'],\n",
              "      dtype='object')"
            ]
          },
          "metadata": {
            "tags": []
          },
          "execution_count": 57
        }
      ]
    },
    {
      "cell_type": "markdown",
      "metadata": {
        "id": "UMosg8NmqXXc"
      },
      "source": [
        "# Train and test"
      ]
    },
    {
      "cell_type": "code",
      "metadata": {
        "id": "btNREY3f6l2w"
      },
      "source": [
        "from sklearn.model_selection import train_test_split\n",
        "X_tv, X_test, y_tv , y_test = train_test_split(X, y, test_size = 0.7 ,random_state = 5)\n",
        "X_train, X_valid, y_train , y_valid = train_test_split(X_tv, y_tv,  test_size = 0.6, random_state = 5)"
      ],
      "execution_count": 58,
      "outputs": []
    },
    {
      "cell_type": "markdown",
      "metadata": {
        "id": "fLOjjHtpqc58"
      },
      "source": [
        "Decission tree"
      ]
    },
    {
      "cell_type": "code",
      "metadata": {
        "colab": {
          "base_uri": "https://localhost:8080/"
        },
        "id": "WkC4gyFe5p8y",
        "outputId": "fa9dc62c-b2c4-4642-e26c-1d3c38caf712"
      },
      "source": [
        "from sklearn.tree import DecisionTreeClassifier\n",
        "from sklearn.metrics import mean_absolute_error\n",
        "from sklearn.metrics import classification_report\n",
        "\n",
        "cumooc_model = DecisionTreeClassifier(random_state=1)\n",
        "cumooc_model.fit(X_train, y_train)\n",
        "\n",
        "val_predictions = cumooc_model.predict(X_valid)\n",
        "\n",
        "\n",
        "print(classification_report(y_valid, val_predictions))"
      ],
      "execution_count": 59,
      "outputs": [
        {
          "output_type": "stream",
          "text": [
            "              precision    recall  f1-score   support\n",
            "\n",
            "           0       0.80      0.78      0.79     61802\n",
            "           1       0.87      0.88      0.87    111223\n",
            "           2       0.67      0.62      0.64      3908\n",
            "           3       0.53      0.46      0.49       312\n",
            "\n",
            "    accuracy                           0.84    177245\n",
            "   macro avg       0.72      0.68      0.70    177245\n",
            "weighted avg       0.84      0.84      0.84    177245\n",
            "\n"
          ],
          "name": "stdout"
        }
      ]
    },
    {
      "cell_type": "code",
      "metadata": {
        "colab": {
          "base_uri": "https://localhost:8080/"
        },
        "id": "mk90IB_U9PxN",
        "outputId": "c9df2043-83b6-4de4-e3fa-a2535bff6728"
      },
      "source": [
        "test_predictions = cumooc_model.predict(X_test)\n",
        "print(classification_report(y_test, test_predictions))"
      ],
      "execution_count": 45,
      "outputs": [
        {
          "output_type": "stream",
          "text": [
            "              precision    recall  f1-score   support\n",
            "\n",
            "           0       0.81      0.78      0.79    241787\n",
            "           1       0.86      0.88      0.87    431146\n",
            "           2       0.67      0.62      0.64     15141\n",
            "           3       0.54      0.43      0.48      1211\n",
            "\n",
            "    accuracy                           0.84    689285\n",
            "   macro avg       0.72      0.68      0.70    689285\n",
            "weighted avg       0.84      0.84      0.84    689285\n",
            "\n"
          ],
          "name": "stdout"
        }
      ]
    },
    {
      "cell_type": "markdown",
      "metadata": {
        "id": "5kuQN5xaqfmi"
      },
      "source": [
        "MLPClassifier"
      ]
    },
    {
      "cell_type": "code",
      "metadata": {
        "colab": {
          "base_uri": "https://localhost:8080/"
        },
        "id": "Z2JQ7lh26Xqw",
        "outputId": "74444b93-1bbb-4d15-e91c-d2c61d415614"
      },
      "source": [
        "from sklearn.neural_network import MLPClassifier\n",
        "\n",
        "cumooc_model = MLPClassifier(hidden_layer_sizes=(6 , 3),max_iter=400)\n",
        "\n",
        "cumooc_model.fit(X_train, y_train)\n",
        "val_predictions = cumooc_model.predict(X_valid)\n",
        "\n",
        "print(classification_report(y_valid, val_predictions))"
      ],
      "execution_count": 46,
      "outputs": [
        {
          "output_type": "stream",
          "text": [
            "              precision    recall  f1-score   support\n",
            "\n",
            "           0       1.00      0.00      0.01     61802\n",
            "           1       0.63      1.00      0.77    111223\n",
            "           2       0.00      0.00      0.00      3908\n",
            "           3       0.00      0.00      0.00       312\n",
            "\n",
            "    accuracy                           0.63    177245\n",
            "   macro avg       0.41      0.25      0.19    177245\n",
            "weighted avg       0.74      0.63      0.49    177245\n",
            "\n"
          ],
          "name": "stdout"
        },
        {
          "output_type": "stream",
          "text": [
            "/usr/local/lib/python3.6/dist-packages/sklearn/metrics/_classification.py:1272: UndefinedMetricWarning: Precision and F-score are ill-defined and being set to 0.0 in labels with no predicted samples. Use `zero_division` parameter to control this behavior.\n",
            "  _warn_prf(average, modifier, msg_start, len(result))\n"
          ],
          "name": "stderr"
        }
      ]
    },
    {
      "cell_type": "markdown",
      "metadata": {
        "id": "uQPtmy7Lqs_K"
      },
      "source": [
        "LogisticRegression"
      ]
    },
    {
      "cell_type": "code",
      "metadata": {
        "colab": {
          "base_uri": "https://localhost:8080/"
        },
        "id": "BwZtpf1Z6eUE",
        "outputId": "6522c653-96e3-4f6f-e7b3-5c2e60359ab1"
      },
      "source": [
        "from sklearn.linear_model import LogisticRegression\n",
        "\n",
        "cumooc_model = LogisticRegression(random_state=0)\n",
        "\n",
        "cumooc_model.fit(X_train, y_train)\n",
        "val_predictions = cumooc_model.predict(X_valid)\n",
        "\n",
        "print(classification_report(y_valid, val_predictions))"
      ],
      "execution_count": 47,
      "outputs": [
        {
          "output_type": "stream",
          "text": [
            "/usr/local/lib/python3.6/dist-packages/sklearn/linear_model/_logistic.py:940: ConvergenceWarning: lbfgs failed to converge (status=1):\n",
            "STOP: TOTAL NO. of ITERATIONS REACHED LIMIT.\n",
            "\n",
            "Increase the number of iterations (max_iter) or scale the data as shown in:\n",
            "    https://scikit-learn.org/stable/modules/preprocessing.html\n",
            "Please also refer to the documentation for alternative solver options:\n",
            "    https://scikit-learn.org/stable/modules/linear_model.html#logistic-regression\n",
            "  extra_warning_msg=_LOGISTIC_SOLVER_CONVERGENCE_MSG)\n",
            "/usr/local/lib/python3.6/dist-packages/sklearn/metrics/_classification.py:1272: UndefinedMetricWarning: Precision and F-score are ill-defined and being set to 0.0 in labels with no predicted samples. Use `zero_division` parameter to control this behavior.\n",
            "  _warn_prf(average, modifier, msg_start, len(result))\n"
          ],
          "name": "stderr"
        },
        {
          "output_type": "stream",
          "text": [
            "              precision    recall  f1-score   support\n",
            "\n",
            "           0       1.00      0.00      0.01     61802\n",
            "           1       0.63      1.00      0.77    111223\n",
            "           2       0.00      0.00      0.00      3908\n",
            "           3       0.00      0.00      0.00       312\n",
            "\n",
            "    accuracy                           0.63    177245\n",
            "   macro avg       0.41      0.25      0.19    177245\n",
            "weighted avg       0.74      0.63      0.49    177245\n",
            "\n"
          ],
          "name": "stdout"
        }
      ]
    },
    {
      "cell_type": "markdown",
      "metadata": {
        "id": "TIWkLI9lrNl7"
      },
      "source": [
        "RandomForestClassifier"
      ]
    },
    {
      "cell_type": "code",
      "metadata": {
        "colab": {
          "base_uri": "https://localhost:8080/"
        },
        "id": "ZIfACICd6gpK",
        "outputId": "25b324ad-1b0a-42f8-a887-c6996f1623d9"
      },
      "source": [
        "from sklearn.ensemble import RandomForestClassifier\n",
        "\n",
        "cumooc_model = RandomForestClassifier(random_state=1)\n",
        "\n",
        "cumooc_model.fit(X_train, y_train)\n",
        "val_predictions = cumooc_model.predict(X_valid)\n",
        "\n",
        "print(classification_report(y_valid, val_predictions))"
      ],
      "execution_count": 48,
      "outputs": [
        {
          "output_type": "stream",
          "text": [
            "              precision    recall  f1-score   support\n",
            "\n",
            "           0       0.84      0.83      0.84     61802\n",
            "           1       0.90      0.90      0.90    111223\n",
            "           2       0.69      0.73      0.71      3908\n",
            "           3       0.55      0.44      0.49       312\n",
            "\n",
            "    accuracy                           0.87    177245\n",
            "   macro avg       0.75      0.73      0.74    177245\n",
            "weighted avg       0.87      0.87      0.87    177245\n",
            "\n"
          ],
          "name": "stdout"
        }
      ]
    },
    {
      "cell_type": "code",
      "metadata": {
        "colab": {
          "base_uri": "https://localhost:8080/"
        },
        "id": "EWbuYSCw6_GE",
        "outputId": "070ff36d-7803-42e4-bcaf-a82ce686c3c2"
      },
      "source": [
        "test_predictions = cumooc_model.predict(X_test)\n",
        "print(classification_report(y_test, test_predictions))"
      ],
      "execution_count": 49,
      "outputs": [
        {
          "output_type": "stream",
          "text": [
            "              precision    recall  f1-score   support\n",
            "\n",
            "           0       0.85      0.83      0.84    241787\n",
            "           1       0.90      0.90      0.90    431146\n",
            "           2       0.69      0.72      0.70     15141\n",
            "           3       0.58      0.42      0.49      1211\n",
            "\n",
            "    accuracy                           0.87    689285\n",
            "   macro avg       0.75      0.72      0.73    689285\n",
            "weighted avg       0.87      0.87      0.87    689285\n",
            "\n"
          ],
          "name": "stdout"
        }
      ]
    }
  ]
}